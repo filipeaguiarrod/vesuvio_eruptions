{
 "cells": [
  {
   "cell_type": "code",
   "execution_count": 2,
   "id": "048b798b",
   "metadata": {
    "execution": {
     "iopub.execute_input": "2022-01-29T18:52:21.190002Z",
     "iopub.status.busy": "2022-01-29T18:52:21.190002Z",
     "iopub.status.idle": "2022-01-29T18:52:22.126285Z",
     "shell.execute_reply": "2022-01-29T18:52:22.126285Z",
     "shell.execute_reply.started": "2022-01-29T18:52:21.190002Z"
    },
    "tags": []
   },
   "outputs": [],
   "source": [
    "import numpy as np\n",
    "import matplotlib.pyplot as plt\n",
    "import seaborn as sns"
   ]
  },
  {
   "cell_type": "code",
   "execution_count": 3,
   "id": "2d312fa7",
   "metadata": {
    "execution": {
     "iopub.execute_input": "2022-01-29T18:52:22.126285Z",
     "iopub.status.busy": "2022-01-29T18:52:22.126285Z",
     "iopub.status.idle": "2022-01-29T18:52:22.141402Z",
     "shell.execute_reply": "2022-01-29T18:52:22.141402Z",
     "shell.execute_reply.started": "2022-01-29T18:52:22.126285Z"
    },
    "tags": []
   },
   "outputs": [],
   "source": [
    "''' Receive an array and compute x,y to plot '''\n",
    "\n",
    "def ecdf(data):\n",
    "    \n",
    "    import numpy as np\n",
    "    \"\"\"Compute ECDF for a one-dimensional array of measurements.\"\"\"\n",
    "    # Number of data points: n\n",
    "    n = len(data)\n",
    "\n",
    "    # x-data for the ECDF: x\n",
    "    x = np.sort(data)\n",
    "\n",
    "    # y-data for the ECDF: y\n",
    "    y = np.arange(1, n+1)/ n\n",
    "\n",
    "    return x, y"
   ]
  },
  {
   "cell_type": "code",
   "execution_count": 4,
   "id": "e14fe774",
   "metadata": {
    "execution": {
     "iopub.execute_input": "2022-01-29T18:52:22.142402Z",
     "iopub.status.busy": "2022-01-29T18:52:22.142402Z",
     "iopub.status.idle": "2022-01-29T18:52:22.156404Z",
     "shell.execute_reply": "2022-01-29T18:52:22.156404Z",
     "shell.execute_reply.started": "2022-01-29T18:52:22.142402Z"
    },
    "tags": []
   },
   "outputs": [],
   "source": [
    "''' Given an x,y  from ecdf plots ecdf graphically'''\n",
    "\n",
    "def ecdf_plot(x, y, xlabel='name of xlabel'):\n",
    "    \n",
    "    import matplotlib.pyplot as plt\n",
    "    \n",
    "    _ = plt.plot(x,y,marker='.',linestyle='none')\n",
    "    _ = plt.xlabel(xlabel)\n",
    "    _ = plt.ylabel('ECDF')\n",
    "    plt.margins(0.02)\n",
    "    plt.show()\n"
   ]
  },
  {
   "cell_type": "markdown",
   "id": "4cf2f84c",
   "metadata": {
    "execution": {
     "iopub.execute_input": "2021-12-26T20:06:56.602774Z",
     "iopub.status.busy": "2021-12-26T20:06:56.602774Z",
     "iopub.status.idle": "2021-12-26T20:06:56.617775Z",
     "shell.execute_reply": "2021-12-26T20:06:56.617775Z",
     "shell.execute_reply.started": "2021-12-26T20:06:56.602774Z"
    },
    "tags": []
   },
   "source": [
    "# Vesuvio Eruptions - Inference"
   ]
  },
  {
   "cell_type": "markdown",
   "id": "e18f9439",
   "metadata": {},
   "source": [
    "Data collected:\n",
    "\n",
    "- geo.mtu.edu/volcanoes/boris/mirror/mirrored_html/VESUVIO_elenco.html\n",
    "- https://pt.wikipedia.org/wiki/Ves%C3%BAvio\n",
    "- https://www.statology.org/exponential-distribution-real-life-examples/\n",
    "- https://docs.scipy.org/doc/scipy/reference/generated/scipy.stats.ks_2samp.html\n",
    "- https://sfb574.geomar.de/eruption-probabilities.html\n",
    "\n",
    "Why poisson distributions?\n",
    "\n",
    "https://pages.mtu.edu/~raman/papers2/Jonesetal99JVGR.pdf\n",
    "\n",
    "Data between two possible years will be used in mean of them."
   ]
  },
  {
   "cell_type": "code",
   "execution_count": 5,
   "id": "07026f15",
   "metadata": {
    "execution": {
     "iopub.execute_input": "2022-01-29T18:52:22.158404Z",
     "iopub.status.busy": "2022-01-29T18:52:22.157405Z",
     "iopub.status.idle": "2022-01-29T18:52:22.171401Z",
     "shell.execute_reply": "2022-01-29T18:52:22.171401Z",
     "shell.execute_reply.started": "2022-01-29T18:52:22.158404Z"
    },
    "tags": []
   },
   "outputs": [],
   "source": [
    "eruptions = np.array([79,172, 203, 222,303, 379, 472, 512, 536, 685, 787,860,900, 968, 991, 999, 1006, 1037, 1049,1073, 1139, 1150,1270, 1347, 1500, 1631,1872,1906, 1929,1944])"
   ]
  },
  {
   "cell_type": "code",
   "execution_count": 6,
   "id": "847f3cbc",
   "metadata": {
    "execution": {
     "iopub.execute_input": "2022-01-29T18:52:22.173403Z",
     "iopub.status.busy": "2022-01-29T18:52:22.173403Z",
     "iopub.status.idle": "2022-01-29T18:52:22.186401Z",
     "shell.execute_reply": "2022-01-29T18:52:22.186401Z",
     "shell.execute_reply.started": "2022-01-29T18:52:22.173403Z"
    },
    "tags": []
   },
   "outputs": [
    {
     "data": {
      "text/plain": [
       "array([ 93,  31,  19,  81,  76,  93,  40,  24, 149, 102,  73,  40,  68,\n",
       "        23,   8,   7,  31,  12,  24,  66,  11, 120,  77, 153, 131, 241,\n",
       "        34,  23,  15])"
      ]
     },
     "execution_count": 6,
     "metadata": {},
     "output_type": "execute_result"
    }
   ],
   "source": [
    "years_eruption = np.diff(eruptions)\n",
    "years_eruption"
   ]
  },
  {
   "cell_type": "code",
   "execution_count": 7,
   "id": "f8595c11",
   "metadata": {
    "execution": {
     "iopub.execute_input": "2022-01-29T18:52:22.187402Z",
     "iopub.status.busy": "2022-01-29T18:52:22.187402Z",
     "iopub.status.idle": "2022-01-29T18:52:22.202400Z",
     "shell.execute_reply": "2022-01-29T18:52:22.202400Z",
     "shell.execute_reply.started": "2022-01-29T18:52:22.187402Z"
    },
    "tags": []
   },
   "outputs": [
    {
     "data": {
      "text/plain": [
       "64.3103448275862"
      ]
     },
     "execution_count": 7,
     "metadata": {},
     "output_type": "execute_result"
    }
   ],
   "source": [
    "years_eruption.mean()"
   ]
  },
  {
   "cell_type": "code",
   "execution_count": 8,
   "id": "4fe5aa52",
   "metadata": {
    "execution": {
     "iopub.execute_input": "2022-01-29T18:52:22.203402Z",
     "iopub.status.busy": "2022-01-29T18:52:22.203402Z",
     "iopub.status.idle": "2022-01-29T18:52:22.218404Z",
     "shell.execute_reply": "2022-01-29T18:52:22.218404Z",
     "shell.execute_reply.started": "2022-01-29T18:52:22.203402Z"
    },
    "tags": []
   },
   "outputs": [
    {
     "data": {
      "text/plain": [
       "29"
      ]
     },
     "execution_count": 8,
     "metadata": {},
     "output_type": "execute_result"
    }
   ],
   "source": [
    "len(years_eruption)"
   ]
  },
  {
   "cell_type": "code",
   "execution_count": 9,
   "id": "5fc8825f",
   "metadata": {
    "execution": {
     "iopub.execute_input": "2022-01-29T18:52:22.220405Z",
     "iopub.status.busy": "2022-01-29T18:52:22.219401Z",
     "iopub.status.idle": "2022-01-29T18:52:22.405401Z",
     "shell.execute_reply": "2022-01-29T18:52:22.405401Z",
     "shell.execute_reply.started": "2022-01-29T18:52:22.219401Z"
    },
    "tags": []
   },
   "outputs": [
    {
     "data": {
      "image/png": "[encoded data removed]",
      "text/plain": [
       "<Figure size 432x288 with 1 Axes>"
      ]
     },
     "metadata": {
      "needs_background": "light"
     },
     "output_type": "display_data"
    }
   ],
   "source": [
    "_ = plt.hist(years_eruption,density=True,bins=28)\n",
    "_ = plt.ylabel('PDF')\n",
    "_ = plt.xlabel('Years between eruptions')\n",
    "plt.show()"
   ]
  },
  {
   "cell_type": "code",
   "execution_count": 10,
   "id": "a423760d",
   "metadata": {
    "execution": {
     "iopub.execute_input": "2022-01-29T18:52:22.406401Z",
     "iopub.status.busy": "2022-01-29T18:52:22.406401Z",
     "iopub.status.idle": "2022-01-29T18:52:22.421402Z",
     "shell.execute_reply": "2022-01-29T18:52:22.421402Z",
     "shell.execute_reply.started": "2022-01-29T18:52:22.406401Z"
    },
    "tags": []
   },
   "outputs": [],
   "source": [
    "x_real,y_real = ecdf(years_eruption)"
   ]
  },
  {
   "cell_type": "code",
   "execution_count": 11,
   "id": "f739f457",
   "metadata": {
    "execution": {
     "iopub.execute_input": "2022-01-29T18:52:22.422402Z",
     "iopub.status.busy": "2022-01-29T18:52:22.422402Z",
     "iopub.status.idle": "2022-01-29T18:52:22.515400Z",
     "shell.execute_reply": "2022-01-29T18:52:22.515400Z",
     "shell.execute_reply.started": "2022-01-29T18:52:22.422402Z"
    },
    "tags": []
   },
   "outputs": [
    {
     "data": {
      "image/png": "[encoded data removed]",
      "text/plain": [
       "<Figure size 432x288 with 1 Axes>"
      ]
     },
     "metadata": {
      "needs_background": "light"
     },
     "output_type": "display_data"
    }
   ],
   "source": [
    "ecdf_plot(x_real,y_real, xlabel='Years between eruptions')"
   ]
  },
  {
   "cell_type": "markdown",
   "id": "fe75ed81",
   "metadata": {},
   "source": [
    "# Statistics Hacking"
   ]
  },
  {
   "cell_type": "code",
   "execution_count": 12,
   "id": "30922f5c",
   "metadata": {
    "execution": {
     "iopub.execute_input": "2022-01-29T18:52:23.245454Z",
     "iopub.status.busy": "2022-01-29T18:52:23.245454Z",
     "iopub.status.idle": "2022-01-29T18:52:23.264444Z",
     "shell.execute_reply": "2022-01-29T18:52:23.264444Z",
     "shell.execute_reply.started": "2022-01-29T18:52:23.245454Z"
    },
    "tags": []
   },
   "outputs": [],
   "source": [
    "simulation_eruptions = np.random.exponential(64.31,size=1000000)"
   ]
  },
  {
   "cell_type": "code",
   "execution_count": null,
   "id": "d4bdd76b",
   "metadata": {},
   "outputs": [],
   "source": []
  },
  {
   "cell_type": "code",
   "execution_count": 11,
   "id": "c5041cb0",
   "metadata": {
    "execution": {
     "iopub.execute_input": "2022-01-10T22:29:07.028061Z",
     "iopub.status.busy": "2022-01-10T22:29:07.028061Z",
     "iopub.status.idle": "2022-01-10T22:29:07.057060Z",
     "shell.execute_reply": "2022-01-10T22:29:07.057060Z",
     "shell.execute_reply.started": "2022-01-10T22:29:07.028061Z"
    },
    "tags": []
   },
   "outputs": [],
   "source": [
    "simulation_eruptions = np.random.exponential(years_eruption.mean(),size=1000000)"
   ]
  },
  {
   "cell_type": "code",
   "execution_count": 12,
   "id": "049bbcb3",
   "metadata": {
    "execution": {
     "iopub.execute_input": "2022-01-10T22:29:07.058059Z",
     "iopub.status.busy": "2022-01-10T22:29:07.058059Z",
     "iopub.status.idle": "2022-01-10T22:29:07.181061Z",
     "shell.execute_reply": "2022-01-10T22:29:07.180059Z",
     "shell.execute_reply.started": "2022-01-10T22:29:07.058059Z"
    },
    "tags": []
   },
   "outputs": [
    {
     "data": {
      "image/png": "[encoded data removed]",
      "text/plain": [
       "<Figure size 432x288 with 1 Axes>"
      ]
     },
     "metadata": {
      "needs_background": "light"
     },
     "output_type": "display_data"
    }
   ],
   "source": [
    "_ = plt.hist(simulation_eruptions,density=True,bins=5)\n",
    "_ = plt.xlabel('PDF')\n",
    "_ = plt.ylabel('Years between eruptions')"
   ]
  },
  {
   "cell_type": "code",
   "execution_count": 13,
   "id": "fb01236f",
   "metadata": {
    "execution": {
     "iopub.execute_input": "2022-01-10T22:29:07.182063Z",
     "iopub.status.busy": "2022-01-10T22:29:07.182063Z",
     "iopub.status.idle": "2022-01-10T22:29:07.273061Z",
     "shell.execute_reply": "2022-01-10T22:29:07.273061Z",
     "shell.execute_reply.started": "2022-01-10T22:29:07.182063Z"
    },
    "tags": []
   },
   "outputs": [],
   "source": [
    "x_theorical,y_theorical = ecdf(simulation_eruptions)"
   ]
  },
  {
   "cell_type": "code",
   "execution_count": 14,
   "id": "8cc4685c",
   "metadata": {
    "execution": {
     "iopub.execute_input": "2022-01-10T22:29:07.275059Z",
     "iopub.status.busy": "2022-01-10T22:29:07.275059Z",
     "iopub.status.idle": "2022-01-10T22:29:08.267060Z",
     "shell.execute_reply": "2022-01-10T22:29:08.267060Z",
     "shell.execute_reply.started": "2022-01-10T22:29:07.275059Z"
    },
    "tags": []
   },
   "outputs": [
    {
     "data": {
      "image/png": "[encoded data removed]",
      "text/plain": [
       "<Figure size 432x288 with 1 Axes>"
      ]
     },
     "metadata": {
      "needs_background": "light"
     },
     "output_type": "display_data"
    }
   ],
   "source": [
    "ecdf_plot(x_theorical,y_theorical, xlabel='Years between eruptions')"
   ]
  },
  {
   "cell_type": "markdown",
   "id": "336d6642",
   "metadata": {},
   "source": [
    "# CDF x ECDF - Exponential"
   ]
  },
  {
   "cell_type": "code",
   "execution_count": 44,
   "id": "983d3b02",
   "metadata": {
    "execution": {
     "iopub.execute_input": "2022-01-10T22:53:49.322453Z",
     "iopub.status.busy": "2022-01-10T22:53:49.321453Z",
     "iopub.status.idle": "2022-01-10T22:53:49.626453Z",
     "shell.execute_reply": "2022-01-10T22:53:49.625454Z",
     "shell.execute_reply.started": "2022-01-10T22:53:49.322453Z"
    },
    "tags": []
   },
   "outputs": [
    {
     "data": {
      "image/png": "[encoded data removed]",
      "text/plain": [
       "<Figure size 432x288 with 1 Axes>"
      ]
     },
     "metadata": {
      "needs_background": "light"
     },
     "output_type": "display_data"
    }
   ],
   "source": [
    "# Sample out of a normal distribution with this mu and sigma: samples\n",
    "samples = np.random.exponential(years_eruption.mean(),size=1000000)\n",
    "\n",
    "# Get the CDF of the samples and of the data\n",
    "\n",
    "x_theorical,y_theorical = ecdf(samples)\n",
    "x_real,y_real = ecdf(years_eruption)\n",
    "\n",
    "# Plot the CDFs and show the plot\n",
    "_ = plt.plot(x_theorical,y_theorical)\n",
    "_ = plt.plot(x_real,y_real, marker='.', linestyle='none')\n",
    "_ = plt.legend(('cdf', 'ecdf'), loc='lower right')\n",
    "_ = plt.xlabel('Time Between Eruptions (years)')\n",
    "_ = plt.ylabel('CDF')\n",
    "plt.show()"
   ]
  },
  {
   "cell_type": "markdown",
   "id": "6f6d7059",
   "metadata": {
    "execution": {
     "iopub.execute_input": "2021-12-26T20:45:31.219836Z",
     "iopub.status.busy": "2021-12-26T20:45:31.219836Z",
     "iopub.status.idle": "2021-12-26T20:45:31.223836Z",
     "shell.execute_reply": "2021-12-26T20:45:31.223836Z",
     "shell.execute_reply.started": "2021-12-26T20:45:31.219836Z"
    },
    "tags": []
   },
   "source": [
    "# Knowing the last Vesivious eurption 1944 And the probability that will happen in next 5 years :"
   ]
  },
  {
   "cell_type": "code",
   "execution_count": 16,
   "id": "d7a6ba1e",
   "metadata": {
    "execution": {
     "iopub.execute_input": "2022-01-10T22:29:08.561061Z",
     "iopub.status.busy": "2022-01-10T22:29:08.560060Z",
     "iopub.status.idle": "2022-01-10T22:29:08.574061Z",
     "shell.execute_reply": "2022-01-10T22:29:08.574061Z",
     "shell.execute_reply.started": "2022-01-10T22:29:08.560060Z"
    },
    "tags": []
   },
   "outputs": [
    {
     "data": {
      "text/plain": [
       "78"
      ]
     },
     "execution_count": 16,
     "metadata": {},
     "output_type": "execute_result"
    }
   ],
   "source": [
    "years = 2022-eruptions.max()\n",
    "years"
   ]
  },
  {
   "cell_type": "code",
   "execution_count": 17,
   "id": "e8db6836",
   "metadata": {
    "execution": {
     "iopub.execute_input": "2022-01-10T22:29:08.576062Z",
     "iopub.status.busy": "2022-01-10T22:29:08.575061Z",
     "iopub.status.idle": "2022-01-10T22:29:08.590059Z",
     "shell.execute_reply": "2022-01-10T22:29:08.590059Z",
     "shell.execute_reply.started": "2022-01-10T22:29:08.576062Z"
    },
    "tags": []
   },
   "outputs": [
    {
     "data": {
      "text/plain": [
       "30"
      ]
     },
     "execution_count": 17,
     "metadata": {},
     "output_type": "execute_result"
    }
   ],
   "source": [
    "len(eruptions)"
   ]
  },
  {
   "cell_type": "code",
   "execution_count": 18,
   "id": "082c0a63",
   "metadata": {
    "execution": {
     "iopub.execute_input": "2022-01-10T22:29:08.592061Z",
     "iopub.status.busy": "2022-01-10T22:29:08.591060Z",
     "iopub.status.idle": "2022-01-10T22:29:10.688059Z",
     "shell.execute_reply": "2022-01-10T22:29:10.688059Z",
     "shell.execute_reply.started": "2022-01-10T22:29:08.592061Z"
    },
    "tags": []
   },
   "outputs": [],
   "source": [
    "proba_explosion = sum(simulation_eruptions<=78)/1000000"
   ]
  },
  {
   "cell_type": "code",
   "execution_count": 19,
   "id": "32cb2b11",
   "metadata": {
    "execution": {
     "iopub.execute_input": "2022-01-10T22:29:10.689061Z",
     "iopub.status.busy": "2022-01-10T22:29:10.689061Z",
     "iopub.status.idle": "2022-01-10T22:29:10.704062Z",
     "shell.execute_reply": "2022-01-10T22:29:10.704062Z",
     "shell.execute_reply.started": "2022-01-10T22:29:10.689061Z"
    },
    "tags": []
   },
   "outputs": [
    {
     "data": {
      "text/plain": [
       "0.703547"
      ]
     },
     "execution_count": 19,
     "metadata": {},
     "output_type": "execute_result"
    }
   ],
   "source": [
    "proba_explosion "
   ]
  },
  {
   "cell_type": "code",
   "execution_count": 20,
   "id": "e4d04cc2",
   "metadata": {
    "execution": {
     "iopub.execute_input": "2022-01-10T22:29:10.705061Z",
     "iopub.status.busy": "2022-01-10T22:29:10.705061Z",
     "iopub.status.idle": "2022-01-10T22:29:14.824058Z",
     "shell.execute_reply": "2022-01-10T22:29:14.824058Z",
     "shell.execute_reply.started": "2022-01-10T22:29:10.705061Z"
    },
    "tags": []
   },
   "outputs": [
    {
     "data": {
      "text/plain": [
       "0.022189000000000014"
      ]
     },
     "execution_count": 20,
     "metadata": {},
     "output_type": "execute_result"
    }
   ],
   "source": [
    "sum(simulation_eruptions<=83)/1000000 - sum(simulation_eruptions<=78)/1000000"
   ]
  },
  {
   "cell_type": "code",
   "execution_count": 21,
   "id": "6d936379",
   "metadata": {
    "execution": {
     "iopub.execute_input": "2022-01-10T22:29:14.825060Z",
     "iopub.status.busy": "2022-01-10T22:29:14.825060Z",
     "iopub.status.idle": "2022-01-10T22:29:14.839058Z",
     "shell.execute_reply": "2022-01-10T22:29:14.839058Z",
     "shell.execute_reply.started": "2022-01-10T22:29:14.825060Z"
    },
    "tags": []
   },
   "outputs": [
    {
     "data": {
      "text/plain": [
       "2.1999999999999997"
      ]
     },
     "execution_count": 21,
     "metadata": {},
     "output_type": "execute_result"
    }
   ],
   "source": [
    "0.022*100"
   ]
  },
  {
   "cell_type": "code",
   "execution_count": 22,
   "id": "dd1dae4d",
   "metadata": {
    "execution": {
     "iopub.execute_input": "2022-01-10T22:29:14.841059Z",
     "iopub.status.busy": "2022-01-10T22:29:14.840060Z",
     "iopub.status.idle": "2022-01-10T22:29:14.855060Z",
     "shell.execute_reply": "2022-01-10T22:29:14.854059Z",
     "shell.execute_reply.started": "2022-01-10T22:29:14.841059Z"
    },
    "tags": []
   },
   "outputs": [
    {
     "data": {
      "text/plain": [
       "0.703547"
      ]
     },
     "execution_count": 22,
     "metadata": {},
     "output_type": "execute_result"
    }
   ],
   "source": [
    "proba_explosion"
   ]
  },
  {
   "cell_type": "markdown",
   "id": "57e58360",
   "metadata": {
    "execution": {
     "iopub.execute_input": "2021-12-26T20:51:53.415699Z",
     "iopub.status.busy": "2021-12-26T20:51:53.414702Z",
     "iopub.status.idle": "2021-12-26T20:51:53.424699Z",
     "shell.execute_reply": "2021-12-26T20:51:53.424699Z",
     "shell.execute_reply.started": "2021-12-26T20:51:53.415699Z"
    },
    "tags": []
   },
   "source": [
    "# Modeling as Poisson"
   ]
  },
  {
   "cell_type": "code",
   "execution_count": 42,
   "id": "259ccca1",
   "metadata": {
    "execution": {
     "iopub.execute_input": "2022-01-10T22:53:37.891674Z",
     "iopub.status.busy": "2022-01-10T22:53:37.890673Z",
     "iopub.status.idle": "2022-01-10T22:53:38.192671Z",
     "shell.execute_reply": "2022-01-10T22:53:38.192671Z",
     "shell.execute_reply.started": "2022-01-10T22:53:37.891674Z"
    },
    "tags": []
   },
   "outputs": [
    {
     "data": {
      "image/png": "[encoded data removed]",
      "text/plain": [
       "<Figure size 432x288 with 1 Axes>"
      ]
     },
     "metadata": {
      "needs_background": "light"
     },
     "output_type": "display_data"
    }
   ],
   "source": [
    "# Sample out of a normal distribution with this mu and sigma: samples\n",
    "samples = np.random.poisson(years_eruption.mean(),size=1000000)\n",
    "\n",
    "# Get the CDF of the samples and of the data\n",
    "\n",
    "x_theorical,y_theorical = ecdf(samples)\n",
    "x_real,y_real = ecdf(years_eruption)\n",
    "\n",
    "# Plot the CDFs and show the plot\n",
    "_ = plt.plot(x_theorical,y_theorical)\n",
    "_ = plt.plot(x_real,y_real, marker='.', linestyle='none')\n",
    "_ = plt.legend(('cdf', 'ecdf'), loc='lower right')\n",
    "_ = plt.xlabel('Time Between Eruptions (years)')\n",
    "_ = plt.ylabel('CDF')\n",
    "plt.show()"
   ]
  },
  {
   "cell_type": "code",
   "execution_count": 24,
   "id": "cdc7ced9",
   "metadata": {
    "execution": {
     "iopub.execute_input": "2022-01-10T22:29:15.151061Z",
     "iopub.status.busy": "2022-01-10T22:29:15.151061Z",
     "iopub.status.idle": "2022-01-10T22:29:15.166061Z",
     "shell.execute_reply": "2022-01-10T22:29:15.165059Z",
     "shell.execute_reply.started": "2022-01-10T22:29:15.151061Z"
    },
    "tags": []
   },
   "outputs": [],
   "source": [
    "import scipy"
   ]
  },
  {
   "cell_type": "code",
   "execution_count": 25,
   "id": "0276cc24",
   "metadata": {
    "execution": {
     "iopub.execute_input": "2022-01-10T22:29:15.168060Z",
     "iopub.status.busy": "2022-01-10T22:29:15.167061Z",
     "iopub.status.idle": "2022-01-10T22:29:15.180059Z",
     "shell.execute_reply": "2022-01-10T22:29:15.180059Z",
     "shell.execute_reply.started": "2022-01-10T22:29:15.168060Z"
    },
    "tags": []
   },
   "outputs": [],
   "source": [
    "from scipy.stats import ks_2samp"
   ]
  },
  {
   "cell_type": "markdown",
   "id": "dd799541",
   "metadata": {},
   "source": [
    "# P valor < 0,05 ou seja Sem diferença entre Ho e Ha - Exponential"
   ]
  },
  {
   "cell_type": "code",
   "execution_count": 26,
   "id": "90ebf263",
   "metadata": {
    "execution": {
     "iopub.execute_input": "2022-01-10T22:29:15.181059Z",
     "iopub.status.busy": "2022-01-10T22:29:15.181059Z",
     "iopub.status.idle": "2022-01-10T22:29:24.557059Z",
     "shell.execute_reply": "2022-01-10T22:29:24.557059Z",
     "shell.execute_reply.started": "2022-01-10T22:29:15.181059Z"
    },
    "tags": []
   },
   "outputs": [
    {
     "data": {
      "text/plain": [
       "KstestResult(statistic=0.504488, pvalue=1.0)"
      ]
     },
     "execution_count": 26,
     "metadata": {},
     "output_type": "execute_result"
    }
   ],
   "source": [
    "scipy.stats.ks_2samp( np.random.exponential(years_eruption.mean(),size=1000), samples, alternative='two-sided', mode='exact')"
   ]
  },
  {
   "cell_type": "code",
   "execution_count": 27,
   "id": "df1b1800",
   "metadata": {
    "execution": {
     "iopub.execute_input": "2022-01-10T22:29:24.558061Z",
     "iopub.status.busy": "2022-01-10T22:29:24.558061Z",
     "iopub.status.idle": "2022-01-10T22:29:33.891059Z",
     "shell.execute_reply": "2022-01-10T22:29:33.891059Z",
     "shell.execute_reply.started": "2022-01-10T22:29:24.558061Z"
    },
    "tags": []
   },
   "outputs": [
    {
     "data": {
      "text/plain": [
       "KstestResult(statistic=0.504639, pvalue=1.0)"
      ]
     },
     "execution_count": 27,
     "metadata": {},
     "output_type": "execute_result"
    }
   ],
   "source": [
    "scipy.stats.ks_2samp( np.random.exponential(years_eruption.mean(),size=1000), samples, alternative='two-sided', mode='exact')"
   ]
  },
  {
   "cell_type": "code",
   "execution_count": 28,
   "id": "f2b34213",
   "metadata": {
    "execution": {
     "iopub.execute_input": "2022-01-10T22:29:53.039193Z",
     "iopub.status.busy": "2022-01-10T22:29:53.039193Z",
     "iopub.status.idle": "2022-01-10T22:29:53.056193Z",
     "shell.execute_reply": "2022-01-10T22:29:53.056193Z",
     "shell.execute_reply.started": "2022-01-10T22:29:53.039193Z"
    },
    "tags": []
   },
   "outputs": [],
   "source": [
    "from scipy import stats"
   ]
  },
  {
   "cell_type": "code",
   "execution_count": 30,
   "id": "f09cd3b5",
   "metadata": {
    "execution": {
     "iopub.execute_input": "2022-01-10T22:36:47.214763Z",
     "iopub.status.busy": "2022-01-10T22:36:47.214763Z",
     "iopub.status.idle": "2022-01-10T22:36:47.233762Z",
     "shell.execute_reply": "2022-01-10T22:36:47.233762Z",
     "shell.execute_reply.started": "2022-01-10T22:36:47.214763Z"
    },
    "tags": []
   },
   "outputs": [
    {
     "data": {
      "text/plain": [
       "array([1.00000e-06, 2.00000e-06, 3.00000e-06, ..., 9.99998e-01,\n",
       "       9.99999e-01, 1.00000e+00])"
      ]
     },
     "execution_count": 30,
     "metadata": {},
     "output_type": "execute_result"
    }
   ],
   "source": [
    "y_theorical"
   ]
  },
  {
   "cell_type": "code",
   "execution_count": 31,
   "id": "a7b6c475",
   "metadata": {
    "execution": {
     "iopub.execute_input": "2022-01-10T22:37:03.814871Z",
     "iopub.status.busy": "2022-01-10T22:37:03.813874Z",
     "iopub.status.idle": "2022-01-10T22:37:03.828874Z",
     "shell.execute_reply": "2022-01-10T22:37:03.827876Z",
     "shell.execute_reply.started": "2022-01-10T22:37:03.814871Z"
    },
    "tags": []
   },
   "outputs": [
    {
     "data": {
      "text/plain": [
       "array([0.03448276, 0.06896552, 0.10344828, 0.13793103, 0.17241379,\n",
       "       0.20689655, 0.24137931, 0.27586207, 0.31034483, 0.34482759,\n",
       "       0.37931034, 0.4137931 , 0.44827586, 0.48275862, 0.51724138,\n",
       "       0.55172414, 0.5862069 , 0.62068966, 0.65517241, 0.68965517,\n",
       "       0.72413793, 0.75862069, 0.79310345, 0.82758621, 0.86206897,\n",
       "       0.89655172, 0.93103448, 0.96551724, 1.        ])"
      ]
     },
     "execution_count": 31,
     "metadata": {},
     "output_type": "execute_result"
    }
   ],
   "source": [
    "y_real"
   ]
  },
  {
   "cell_type": "code",
   "execution_count": 62,
   "id": "e17296b4",
   "metadata": {
    "execution": {
     "iopub.execute_input": "2022-01-10T23:48:46.155428Z",
     "iopub.status.busy": "2022-01-10T23:48:46.155428Z",
     "iopub.status.idle": "2022-01-10T23:48:46.167429Z",
     "shell.execute_reply": "2022-01-10T23:48:46.166427Z",
     "shell.execute_reply.started": "2022-01-10T23:48:46.155428Z"
    },
    "tags": []
   },
   "outputs": [
    {
     "data": {
      "text/plain": [
       "64.3103448275862"
      ]
     },
     "execution_count": 62,
     "metadata": {},
     "output_type": "execute_result"
    }
   ],
   "source": [
    "years_eruption.mean()"
   ]
  },
  {
   "cell_type": "code",
   "execution_count": 40,
   "id": "29e82f76",
   "metadata": {
    "execution": {
     "iopub.execute_input": "2022-01-10T22:47:56.011392Z",
     "iopub.status.busy": "2022-01-10T22:47:56.011392Z",
     "iopub.status.idle": "2022-01-10T22:47:56.294522Z",
     "shell.execute_reply": "2022-01-10T22:47:56.294522Z",
     "shell.execute_reply.started": "2022-01-10T22:47:56.011392Z"
    },
    "tags": []
   },
   "outputs": [
    {
     "data": {
      "image/png": "[encoded data removed]",
      "text/plain": [
       "<Figure size 432x288 with 1 Axes>"
      ]
     },
     "metadata": {
      "needs_background": "light"
     },
     "output_type": "display_data"
    }
   ],
   "source": [
    "# Sample out of a normal distribution with this mu and sigma: samples\n",
    "samples = np.random.exponential(years_eruption.mean(),size=1000000)\n",
    "\n",
    "# Get the CDF of the samples and of the data\n",
    "\n",
    "x_theorical,y_theorical = ecdf(samples)\n",
    "x_real,y_real = ecdf(years_eruption)\n",
    "\n",
    "# Plot the CDFs and show the plot\n",
    "_ = plt.plot(x_theorical,y_theorical)\n",
    "_ = plt.plot(x_real,y_real, marker='.', linestyle='none')\n",
    "_ = plt.legend(('cdf', 'ecdf'), loc='lower right')\n",
    "_ = plt.xlabel('Time Between Eruptions (years)')\n",
    "_ = plt.ylabel('CDF')\n",
    "plt.show()"
   ]
  },
  {
   "cell_type": "code",
   "execution_count": 61,
   "id": "442c8213",
   "metadata": {
    "execution": {
     "iopub.execute_input": "2022-01-10T23:12:17.899083Z",
     "iopub.status.busy": "2022-01-10T23:12:17.899083Z",
     "iopub.status.idle": "2022-01-10T23:12:17.981083Z",
     "shell.execute_reply": "2022-01-10T23:12:17.981083Z",
     "shell.execute_reply.started": "2022-01-10T23:12:17.899083Z"
    },
    "tags": []
   },
   "outputs": [
    {
     "data": {
      "text/plain": [
       "KstestResult(statistic=1.0, pvalue=0.0)"
      ]
     },
     "execution_count": 61,
     "metadata": {},
     "output_type": "execute_result"
    }
   ],
   "source": [
    "scipy.stats.kstest(eruptions, cdf  = y_theorical)"
   ]
  },
  {
   "cell_type": "code",
   "execution_count": 47,
   "id": "d41c8abb",
   "metadata": {
    "execution": {
     "iopub.execute_input": "2022-01-10T22:57:13.454667Z",
     "iopub.status.busy": "2022-01-10T22:57:13.453667Z",
     "iopub.status.idle": "2022-01-10T22:57:13.462710Z",
     "shell.execute_reply": "2022-01-10T22:57:13.459667Z",
     "shell.execute_reply.started": "2022-01-10T22:57:13.454667Z"
    },
    "tags": []
   },
   "outputs": [],
   "source": [
    "rng = np.random.default_rng()"
   ]
  },
  {
   "cell_type": "code",
   "execution_count": 48,
   "id": "64c44bc1",
   "metadata": {
    "execution": {
     "iopub.execute_input": "2022-01-10T22:57:14.190031Z",
     "iopub.status.busy": "2022-01-10T22:57:14.190031Z",
     "iopub.status.idle": "2022-01-10T22:57:14.201030Z",
     "shell.execute_reply": "2022-01-10T22:57:14.201030Z",
     "shell.execute_reply.started": "2022-01-10T22:57:14.190031Z"
    },
    "tags": []
   },
   "outputs": [
    {
     "data": {
      "text/plain": [
       "KstestResult(statistic=0.06025639997763785, pvalue=0.8392557520248641)"
      ]
     },
     "execution_count": 48,
     "metadata": {},
     "output_type": "execute_result"
    }
   ],
   "source": [
    "stats.kstest(stats.norm.rvs(size=100, random_state=rng), stats.norm.cdf)"
   ]
  },
  {
   "cell_type": "code",
   "execution_count": 49,
   "id": "8aa59d59",
   "metadata": {
    "execution": {
     "iopub.execute_input": "2022-01-10T22:57:25.807556Z",
     "iopub.status.busy": "2022-01-10T22:57:25.807556Z",
     "iopub.status.idle": "2022-01-10T22:57:25.815557Z",
     "shell.execute_reply": "2022-01-10T22:57:25.815557Z",
     "shell.execute_reply.started": "2022-01-10T22:57:25.807556Z"
    },
    "tags": []
   },
   "outputs": [
    {
     "data": {
      "text/plain": [
       "array([ 1.12969504,  0.19520982,  0.23614038, -0.84527233,  0.07636914,\n",
       "       -0.14062468,  2.52375166, -2.80046398,  0.31665966,  0.11195918,\n",
       "        0.98081623, -0.55489802, -0.45282032, -0.22139732, -1.6998146 ,\n",
       "        1.17471388, -0.56826057, -1.14240056, -0.35064598,  1.69946105,\n",
       "       -0.58038382,  1.03729677, -0.63683359,  0.82704859, -1.57508895,\n",
       "       -0.75404974,  1.28492431,  0.82523875,  0.36280576, -0.22036926,\n",
       "       -0.1291811 , -0.02020146,  0.31535506, -0.50432283, -0.5957657 ,\n",
       "       -0.48305778,  0.0097497 ,  1.33797575, -0.86050064, -0.21969417,\n",
       "        1.29425049,  0.15343348,  0.15797714, -0.4363309 ,  0.027703  ,\n",
       "        0.56519682,  0.23415185, -0.22813281,  1.05580077, -1.13348237,\n",
       "       -2.09129315,  0.49818873, -0.71173902,  0.35091373,  1.35343077,\n",
       "        0.47442573,  1.43593998, -0.26679277,  0.71925269, -0.20041844,\n",
       "       -1.94223587, -0.52449432, -0.13739157, -0.58895839, -0.05964391,\n",
       "        0.5352604 , -0.33755753, -2.03473755,  0.29183995,  0.31627558,\n",
       "       -0.35081096,  2.26743329,  1.81689595, -0.76331198,  0.80888595,\n",
       "       -1.5118765 , -0.31540757,  0.69688031, -0.93373988, -0.54582628,\n",
       "        0.35165317, -0.15991683, -0.03280805,  1.59993024,  1.61992254,\n",
       "       -1.49841498,  0.06220115,  1.43581845, -0.25345794, -0.54876537,\n",
       "       -1.76067681, -0.94017495, -0.40521176,  0.16284119,  0.49328008,\n",
       "        1.41936796, -0.88917208, -1.09092095,  0.30771155,  0.70594656])"
      ]
     },
     "execution_count": 49,
     "metadata": {},
     "output_type": "execute_result"
    }
   ],
   "source": [
    "stats.norm.rvs(size=100, random_state=rng)"
   ]
  },
  {
   "cell_type": "code",
   "execution_count": null,
   "id": "6a319c4d",
   "metadata": {},
   "outputs": [],
   "source": [
    "# Plot the CDFs and show the plot\n",
    "_ = plt.plot(x_theorical,y_theorical)\n",
    "_ = plt.plot(x_real,y_real, marker='.', linestyle='none')\n",
    "_ = plt.legend(('cdf', 'ecdf'), loc='lower right')\n",
    "_ = plt.xlabel('Time Between Eruptions (years)')\n",
    "_ = plt.ylabel('CDF')\n",
    "plt.show()"
   ]
  },
  {
   "cell_type": "code",
   "execution_count": 60,
   "id": "af0c1547",
   "metadata": {
    "execution": {
     "iopub.execute_input": "2022-01-10T23:12:06.963465Z",
     "iopub.status.busy": "2022-01-10T23:12:06.963465Z",
     "iopub.status.idle": "2022-01-10T23:12:06.968466Z",
     "shell.execute_reply": "2022-01-10T23:12:06.968466Z",
     "shell.execute_reply.started": "2022-01-10T23:12:06.963465Z"
    },
    "tags": []
   },
   "outputs": [
    {
     "data": {
      "text/plain": [
       "array([  79,  172,  203,  222,  303,  379,  472,  512,  536,  685,  787,\n",
       "        860,  900,  968,  991,  999, 1006, 1037, 1049, 1073, 1139, 1150,\n",
       "       1270, 1347, 1500, 1631, 1872, 1906, 1929, 1944])"
      ]
     },
     "execution_count": 60,
     "metadata": {},
     "output_type": "execute_result"
    }
   ],
   "source": [
    "eruptions"
   ]
  },
  {
   "cell_type": "code",
   "execution_count": 59,
   "id": "6ef1960d",
   "metadata": {
    "execution": {
     "iopub.execute_input": "2022-01-10T23:00:01.075251Z",
     "iopub.status.busy": "2022-01-10T23:00:01.075251Z",
     "iopub.status.idle": "2022-01-10T23:00:01.094250Z",
     "shell.execute_reply": "2022-01-10T23:00:01.094250Z",
     "shell.execute_reply.started": "2022-01-10T23:00:01.075251Z"
    },
    "tags": []
   },
   "outputs": [
    {
     "data": {
      "text/plain": [
       "array([0.033895  , 0.06664114, 0.09827734, 0.12884123, 0.15836916,\n",
       "       0.18689624, 0.21445639, 0.2410824 , 0.26680591, 0.29165753,\n",
       "       0.3156668 , 0.33886228, 0.36127154, 0.38292124, 0.40383713,\n",
       "       0.42404407, 0.4435661 , 0.46242643, 0.48064749, 0.49825094,\n",
       "       0.51525773, 0.53168807, 0.54756151, 0.56289691, 0.57771252,\n",
       "       0.59202596, 0.60585424, 0.61921381, 0.63212056])"
      ]
     },
     "execution_count": 59,
     "metadata": {},
     "output_type": "execute_result"
    }
   ],
   "source": [
    "stats.expon.cdf(y_real, loc=0, scale=1)"
   ]
  },
  {
   "cell_type": "code",
   "execution_count": 1,
   "id": "010b395b",
   "metadata": {
    "execution": {
     "iopub.execute_input": "2022-01-11T23:58:02.230881Z",
     "iopub.status.busy": "2022-01-11T23:58:02.229881Z",
     "iopub.status.idle": "2022-01-11T23:58:02.443924Z",
     "shell.execute_reply": "2022-01-11T23:58:02.443924Z",
     "shell.execute_reply.started": "2022-01-11T23:58:02.229881Z"
    },
    "tags": []
   },
   "outputs": [
    {
     "ename": "NameError",
     "evalue": "name 'data' is not defined",
     "output_type": "error",
     "traceback": [
      "\u001b[1;31m---------------------------------------------------------------------------\u001b[0m",
      "\u001b[1;31mNameError\u001b[0m                                 Traceback (most recent call last)",
      "\u001b[1;32m~\\AppData\\Local\\Temp/ipykernel_18160/3264069240.py\u001b[0m in \u001b[0;36m<module>\u001b[1;34m\u001b[0m\n\u001b[1;32m----> 1\u001b[1;33m \u001b[0mlen\u001b[0m\u001b[1;33m(\u001b[0m\u001b[0mdata\u001b[0m\u001b[1;33m)\u001b[0m\u001b[1;33m\u001b[0m\u001b[1;33m\u001b[0m\u001b[0m\n\u001b[0m",
      "\u001b[1;31mNameError\u001b[0m: name 'data' is not defined"
     ]
    }
   ],
   "source": [
    "len(data)"
   ]
  }
 ],
 "metadata": {
  "kernelspec": {
   "display_name": "Python 3 (ipykernel)",
   "language": "python",
   "name": "python3"
  },
  "language_info": {
   "codemirror_mode": {
    "name": "ipython",
    "version": 3
   },
   "file_extension": ".py",
   "mimetype": "text/x-python",
   "name": "python",
   "nbconvert_exporter": "python",
   "pygments_lexer": "ipython3",
   "version": "3.8.5"
  }
 },
 "nbformat": 4,
 "nbformat_minor": 5
}
