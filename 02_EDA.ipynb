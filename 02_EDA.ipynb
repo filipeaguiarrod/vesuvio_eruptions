{
 "cells": [
  {
   "cell_type": "markdown",
   "id": "7c59bcd9",
   "metadata": {},
   "source": [
    "## Bibliotecas"
   ]
  },
  {
   "cell_type": "code",
   "execution_count": 22,
   "id": "948b7a88",
   "metadata": {
    "execution": {
     "iopub.execute_input": "2022-01-29T17:21:34.499990Z",
     "iopub.status.busy": "2022-01-29T17:21:34.499990Z",
     "iopub.status.idle": "2022-01-29T17:21:34.671400Z",
     "shell.execute_reply": "2022-01-29T17:21:34.671400Z",
     "shell.execute_reply.started": "2022-01-29T17:21:34.499990Z"
    },
    "tags": []
   },
   "outputs": [],
   "source": [
    "import numpy as np\n",
    "import pandas as pd\n",
    "import matplotlib.pyplot as plt\n",
    "import seaborn as sns"
   ]
  },
  {
   "cell_type": "markdown",
   "id": "f78d3c18",
   "metadata": {
    "execution": {
     "iopub.execute_input": "2022-01-12T19:16:34.311608Z",
     "iopub.status.busy": "2022-01-12T19:16:34.311608Z",
     "iopub.status.idle": "2022-01-12T19:16:34.327670Z",
     "shell.execute_reply": "2022-01-12T19:16:34.326671Z",
     "shell.execute_reply.started": "2022-01-12T19:16:34.311608Z"
    }
   },
   "source": [
    "# Summary K-S:\n",
    "\n",
    "#### 1. Data ( Experiment )\n",
    "#### 2. ECDF - Empirical Cumulative Distribution Function\n",
    "```python\n",
    "\n",
    "'''Cálcular a ecdf dos dados Experimentais'''\n",
    "''' Receive an array and compute x,y to plot '''\n",
    "'''The ECDF is defined as ECDF(x) = (number of samples ≤ x) / (total number of samples)'''\n",
    "\n",
    "def ecdf(data):\n",
    "    \n",
    "    import numpy as np\n",
    "    \"\"\"Compute ECDF for a one-dimensional array of measurements.\"\"\"\n",
    "    \n",
    "    # Number of data points: n\n",
    "    n = len(data)\n",
    "\n",
    "    # x-data for the ECDF: x\n",
    "    x = np.sort(data)\n",
    "\n",
    "    # y-data for the ECDF: y\n",
    "    y = np.arange(1, n+1)/ n\n",
    "\n",
    "    return x, y\n",
    "\n",
    "```\n",
    "\n",
    "#### 3. Data 2 -  Samples from theorical distribution you are comparing your data to.\n",
    "\n",
    "```python\n",
    "''' Example for exponential distribution '''\n",
    "\n",
    "np.random.exponential(mean = 60, size=10000)\n",
    "\n",
    "```\n",
    "\n",
    "\n",
    "#### 4. Formal ECDF using data at arbitrary points.\n",
    "\n",
    "\n",
    "\n",
    "```python\n",
    "'''ecdf_formal(x,data) returns value of the formal ecdf derived from dataset (data) for each value in array x (ecdf dos dados experimentais) .'''\n",
    "\n",
    "'''https://numpy.org/doc/stable/reference/generated/numpy.searchsorted.html'''\n",
    "\n",
    "'''Sort data from theorical sample(data2), and using observation np.search sorted will create and array with best localization for theorical sample'''\n",
    "\n",
    "'''x value (observations sorted) is used for ecdf and ecdf_formal(theorical in arbitrary point)'''\n",
    "\n",
    "''' after create an array with values close to observation it's normalized /len(data2), now we have an theorical ecdf in specific point '''\n",
    "\n",
    "\n",
    "\n",
    "def ecdf_formal(x, data2):  \n",
    "    return np.searchsorted(np.sort(data2), x, side='right') / len(data2)\n",
    "\n",
    "```\n",
    "\n",
    "#### 5. Computing the K-S statistic:\n",
    "\n",
    "```python\n",
    "\n",
    "'''Receives and data1 and data2(theorical) and calculates ecdf and cdf_formal returning K-S statistics'''\n",
    "\n",
    "''' Now that you have ecdf from observation and theorical ecdf from theorical sample, let's compute the distances and use the max distance as K-S.'''\n",
    "\n",
    "'''Write a function to compute the Kolmogorov-Smirnov statistic from two datasets, data1 and data2, \n",
    "in which data2 consists of samples from the theoretical distribution you are comparing your data to. \n",
    "Note that this means we are using hacker stats to compute the K-S statistic for a dataset and a theoretical distribution, \n",
    "not the K-S statistic for two empirical datasets.'''\n",
    "\n",
    "\n",
    "def ks_stat(data1, data2): # data2 consists of samples from the theoretical distribution you are comparing your data to\n",
    "    # Compute ECDF from data: x, y\n",
    "    x,y = ecdf(data1)\n",
    "    \n",
    "    # Calcula os valores correspondes da ecdf na cdf simulada\n",
    "    cdf = ecdf_formal(x,data2)\n",
    "\n",
    "    # Compute distances between concave corners and CDF\n",
    "    D_top = cdf-y\n",
    "\n",
    "    # Compute distance between convex corners and CDF\n",
    "    D_bottom = cdf - y + 1/len(data1)\n",
    "\n",
    "    return np.max((D_top, D_bottom))\n",
    "\n",
    "```\n",
    "\n",
    "#### 6. Drawing K-S replicates:\n",
    "\n",
    "```python\n",
    "\n",
    "'''Here, n is the number of data points, and f is the function you will use to generate samples from the target CDF. For example, to test against an Exponential distribution, you would pass np.random.exponential as f. This function usually takes arguments, which must be passed as a tuple. So, if you wanted to take samples from an Exponential distribution with mean x_mean, you would use the args=(x_mean,) keyword. The keyword arguments size and n_reps respectively represent the number of samples to take from the target distribution and the number of replicates to draw.'''\n",
    "\n",
    "''' \n",
    "n = size of samples that will be compared with theorical sample, use same size as yours observations \n",
    "f = function used to be compared (theorical). Ex: np.random.exponential()\n",
    "args() = contain the parameters that i want to replicate for theorical function. Ex: mean\n",
    "size = size of theorical sample from f\n",
    "n_reps = how many times you want to replicate experiment that will calculate k-s comparing x_samp with theorical sample x_f\n",
    "'''\n",
    "\n",
    "def draw_ks_reps(n, f, args=(), size=10000, n_reps=10000):\n",
    "    # Generate samples from target distribution\n",
    "    x_f = f(*args,size=size)\n",
    "    \n",
    "    # Initialize K-S replicates\n",
    "    reps = np.empty(n_reps)\n",
    "    \n",
    "    # Draw replicate, according with number of copies that i want\n",
    "    for i in range(n_reps):\n",
    "        # Draw samples for comparison\n",
    "        x_samp = f(*args,size=n)\n",
    "        \n",
    "        # Compute K-S statistic\n",
    "        reps[i] = dcst.ks_stat(x_samp,x_f)\n",
    "\n",
    "    return reps\n",
    "\n",
    "```\n",
    "\n",
    "#### 7. Validation - p-value:\n",
    "\n",
    "```python\n",
    "# Draw target distribution: x_f\n",
    "data2 = np.random.exponential(np.mean(data),size=10000)\n",
    "# Compute K-S stat: d\n",
    "d = ks_stat(data,data2)\n",
    "\n",
    "# Draw K-S replicates: reps - array containing simulated distances theorical x theorical n times\n",
    "reps = draw_ks_reps(len(data), np.random.exponential, \n",
    "                         args=(np.mean(data),), size=10000, n_reps=10000)\n",
    "\n",
    "# Compute and print p-value\n",
    "p_val = sum(reps >= d) / 10000\n",
    "print('p =', p_val)\n",
    "```"
   ]
  },
  {
   "cell_type": "markdown",
   "id": "7f7bddc3",
   "metadata": {
    "execution": {
     "iopub.execute_input": "2022-01-13T19:33:39.224146Z",
     "iopub.status.busy": "2022-01-13T19:33:39.224146Z",
     "iopub.status.idle": "2022-01-13T19:33:39.236145Z",
     "shell.execute_reply": "2022-01-13T19:33:39.236145Z",
     "shell.execute_reply.started": "2022-01-13T19:33:39.224146Z"
    },
    "tags": []
   },
   "source": [
    "# Análise"
   ]
  },
  {
   "cell_type": "markdown",
   "id": "da19770b",
   "metadata": {},
   "source": [
    "## 1. Dados: Anos Entre Erupções"
   ]
  },
  {
   "cell_type": "code",
   "execution_count": 6,
   "id": "c62f6182",
   "metadata": {
    "execution": {
     "iopub.execute_input": "2022-01-29T16:58:35.929353Z",
     "iopub.status.busy": "2022-01-29T16:58:35.929353Z",
     "iopub.status.idle": "2022-01-29T16:58:35.941350Z",
     "shell.execute_reply": "2022-01-29T16:58:35.941350Z",
     "shell.execute_reply.started": "2022-01-29T16:58:35.929353Z"
    },
    "tags": []
   },
   "outputs": [],
   "source": [
    "eruption_years = np.array([79,172, 203, 222,303, 379, 472, 512, 536, 685, 787,860,900, 968, 991, 999, 1006, 1037, 1049,1073, 1139, 1150,1270, 1347, 1500, 1631,1872,1906, 1929,1944])"
   ]
  },
  {
   "cell_type": "code",
   "execution_count": 7,
   "id": "353ae6f5",
   "metadata": {
    "execution": {
     "iopub.execute_input": "2022-01-29T16:58:35.942351Z",
     "iopub.status.busy": "2022-01-29T16:58:35.942351Z",
     "iopub.status.idle": "2022-01-29T16:58:35.956475Z",
     "shell.execute_reply": "2022-01-29T16:58:35.956475Z",
     "shell.execute_reply.started": "2022-01-29T16:58:35.942351Z"
    },
    "tags": []
   },
   "outputs": [],
   "source": [
    "data = np.diff(eruption_years)"
   ]
  },
  {
   "cell_type": "markdown",
   "id": "a3db3aaf",
   "metadata": {
    "execution": {
     "iopub.status.busy": "2022-01-29T16:55:56.028451Z",
     "iopub.status.idle": "2022-01-29T16:55:56.028451Z",
     "shell.execute_reply": "2022-01-29T16:55:56.028451Z",
     "shell.execute_reply.started": "2022-01-29T16:55:56.028451Z"
    },
    "tags": []
   },
   "source": [
    "data = np.array([ 93,  31,  19,  81,  76,  93,  40,  24, 149, 102,  73,  40,  68,\n",
    "        23,   8,   7,  31,  12,  24,  66,  11, 120,  77, 153, 131, 241,\n",
    "        34,  23,  15])"
   ]
  },
  {
   "cell_type": "markdown",
   "id": "83e93ae3",
   "metadata": {
    "execution": {
     "iopub.execute_input": "2022-01-29T17:00:09.854261Z",
     "iopub.status.busy": "2022-01-29T17:00:09.854261Z",
     "iopub.status.idle": "2022-01-29T17:00:09.869258Z",
     "shell.execute_reply": "2022-01-29T17:00:09.869258Z",
     "shell.execute_reply.started": "2022-01-29T17:00:09.854261Z"
    },
    "tags": []
   },
   "source": [
    "## 1. Dados: Statistics"
   ]
  },
  {
   "cell_type": "code",
   "execution_count": 14,
   "id": "1f28c80d",
   "metadata": {
    "execution": {
     "iopub.execute_input": "2022-01-29T17:01:46.936981Z",
     "iopub.status.busy": "2022-01-29T17:01:46.935976Z",
     "iopub.status.idle": "2022-01-29T17:01:46.965977Z",
     "shell.execute_reply": "2022-01-29T17:01:46.965977Z",
     "shell.execute_reply.started": "2022-01-29T17:01:46.936981Z"
    },
    "tags": []
   },
   "outputs": [
    {
     "data": {
      "text/html": [
       "<div>\n",
       "<style scoped>\n",
       "    .dataframe tbody tr th:only-of-type {\n",
       "        vertical-align: middle;\n",
       "    }\n",
       "\n",
       "    .dataframe tbody tr th {\n",
       "        vertical-align: top;\n",
       "    }\n",
       "\n",
       "    .dataframe thead th {\n",
       "        text-align: right;\n",
       "    }\n",
       "</style>\n",
       "<table border=\"1\" class=\"dataframe\">\n",
       "  <thead>\n",
       "    <tr style=\"text-align: right;\">\n",
       "      <th></th>\n",
       "      <th>0</th>\n",
       "    </tr>\n",
       "  </thead>\n",
       "  <tbody>\n",
       "    <tr>\n",
       "      <th>count</th>\n",
       "      <td>29.000000</td>\n",
       "    </tr>\n",
       "    <tr>\n",
       "      <th>mean</th>\n",
       "      <td>64.310345</td>\n",
       "    </tr>\n",
       "    <tr>\n",
       "      <th>std</th>\n",
       "      <td>55.110994</td>\n",
       "    </tr>\n",
       "    <tr>\n",
       "      <th>min</th>\n",
       "      <td>7.000000</td>\n",
       "    </tr>\n",
       "    <tr>\n",
       "      <th>25%</th>\n",
       "      <td>23.000000</td>\n",
       "    </tr>\n",
       "    <tr>\n",
       "      <th>50%</th>\n",
       "      <td>40.000000</td>\n",
       "    </tr>\n",
       "    <tr>\n",
       "      <th>75%</th>\n",
       "      <td>93.000000</td>\n",
       "    </tr>\n",
       "    <tr>\n",
       "      <th>max</th>\n",
       "      <td>241.000000</td>\n",
       "    </tr>\n",
       "  </tbody>\n",
       "</table>\n",
       "</div>"
      ],
      "text/plain": [
       "                0\n",
       "count   29.000000\n",
       "mean    64.310345\n",
       "std     55.110994\n",
       "min      7.000000\n",
       "25%     23.000000\n",
       "50%     40.000000\n",
       "75%     93.000000\n",
       "max    241.000000"
      ]
     },
     "execution_count": 14,
     "metadata": {},
     "output_type": "execute_result"
    }
   ],
   "source": [
    "pd.DataFrame(data).describe()"
   ]
  },
  {
   "cell_type": "code",
   "execution_count": 40,
   "id": "4b786669",
   "metadata": {
    "execution": {
     "iopub.execute_input": "2022-01-29T17:29:11.682769Z",
     "iopub.status.busy": "2022-01-29T17:29:11.682769Z",
     "iopub.status.idle": "2022-01-29T17:29:11.871841Z",
     "shell.execute_reply": "2022-01-29T17:29:11.871841Z",
     "shell.execute_reply.started": "2022-01-29T17:29:11.682769Z"
    },
    "tags": []
   },
   "outputs": [
    {
     "data": {
      "image/png": "[encoded data removed]",
      "text/plain": [
       "<Figure size 648x432 with 2 Axes>"
      ]
     },
     "metadata": {},
     "output_type": "display_data"
    }
   ],
   "source": [
    "sns.set(rc={'figure.figsize':(9,6)})\n",
    "sns.set(style=\"darkgrid\")\n",
    "\n",
    "# creating a figure composed of two matplotlib.Axes objects (ax_box and ax_hist)\n",
    "f, (ax_box, ax_hist) = plt.subplots(2, sharex=True, gridspec_kw={\"height_ratios\": (.15, .85)})\n",
    " \n",
    "# assigning a graph to each ax\n",
    "sns.boxplot(x=data, ax=ax_box)\n",
    "_ = sns.histplot(data,kde=True,ax=ax_hist)\n",
    "_ = plt.ylabel('Frequency')\n",
    "_ = plt.xlabel('Years between eruptions')\n",
    " \n",
    "# Remove x axis name for the boxplot\n",
    "ax_box.set(xlabel='')\n",
    "plt.show()"
   ]
  },
  {
   "cell_type": "markdown",
   "id": "3e84ef9d",
   "metadata": {},
   "source": [
    "## 2. ECDF - Empirical Cumulative Distribution Function"
   ]
  },
  {
   "cell_type": "markdown",
   "id": "7df8780c",
   "metadata": {},
   "source": [
    "### 2.1 Function :"
   ]
  },
  {
   "cell_type": "code",
   "execution_count": 42,
   "id": "0a501823",
   "metadata": {
    "execution": {
     "iopub.execute_input": "2022-01-29T17:50:32.407666Z",
     "iopub.status.busy": "2022-01-29T17:50:32.407666Z",
     "iopub.status.idle": "2022-01-29T17:50:32.412665Z",
     "shell.execute_reply": "2022-01-29T17:50:32.412665Z",
     "shell.execute_reply.started": "2022-01-29T17:50:32.407666Z"
    },
    "tags": []
   },
   "outputs": [],
   "source": [
    "''' Receive an array and compute x,y to plot '''\n",
    "\n",
    "def ecdf(data):\n",
    "    \n",
    "    import numpy as np\n",
    "    \"\"\"Compute ECDF for a one-dimensional array of measurements.\"\"\"\n",
    "    # Number of data points: n\n",
    "    n = len(data)\n",
    "\n",
    "    # x-data for the ECDF: x\n",
    "    # Organizing data observed in a sorted way\n",
    "    \n",
    "    x = np.sort(data)\n",
    "\n",
    "    # y-data for the ECDF: y\n",
    "    # Giving data observed: create a array normalized (0-1) that will contain observations\n",
    "    \n",
    "    y = np.arange(1, n+1)/ n\n",
    "    \n",
    "    # ! Important that x,y will have same sizes\n",
    "\n",
    "    return x, y"
   ]
  },
  {
   "cell_type": "markdown",
   "id": "e9d6fcf3",
   "metadata": {},
   "source": [
    "### 2.2 Calculation :"
   ]
  },
  {
   "cell_type": "code",
   "execution_count": 43,
   "id": "6664c5a7",
   "metadata": {
    "execution": {
     "iopub.execute_input": "2022-01-29T17:50:32.413666Z",
     "iopub.status.busy": "2022-01-29T17:50:32.413666Z",
     "iopub.status.idle": "2022-01-29T17:50:32.428663Z",
     "shell.execute_reply": "2022-01-29T17:50:32.428663Z",
     "shell.execute_reply.started": "2022-01-29T17:50:32.413666Z"
    },
    "tags": []
   },
   "outputs": [],
   "source": [
    "x,y = ecdf(data)"
   ]
  },
  {
   "cell_type": "code",
   "execution_count": 44,
   "id": "111071c7",
   "metadata": {
    "execution": {
     "iopub.execute_input": "2022-01-29T17:50:32.429666Z",
     "iopub.status.busy": "2022-01-29T17:50:32.429666Z",
     "iopub.status.idle": "2022-01-29T17:50:32.443665Z",
     "shell.execute_reply": "2022-01-29T17:50:32.443665Z",
     "shell.execute_reply.started": "2022-01-29T17:50:32.429666Z"
    },
    "tags": []
   },
   "outputs": [
    {
     "data": {
      "text/plain": [
       "(array([  7,   8,  11,  12,  15,  19,  23,  23,  24,  24,  31,  31,  34,\n",
       "         40,  40,  66,  68,  73,  76,  77,  81,  93,  93, 102, 120, 131,\n",
       "        149, 153, 241]),\n",
       " array([0.03448276, 0.06896552, 0.10344828, 0.13793103, 0.17241379,\n",
       "        0.20689655, 0.24137931, 0.27586207, 0.31034483, 0.34482759,\n",
       "        0.37931034, 0.4137931 , 0.44827586, 0.48275862, 0.51724138,\n",
       "        0.55172414, 0.5862069 , 0.62068966, 0.65517241, 0.68965517,\n",
       "        0.72413793, 0.75862069, 0.79310345, 0.82758621, 0.86206897,\n",
       "        0.89655172, 0.93103448, 0.96551724, 1.        ]))"
      ]
     },
     "execution_count": 44,
     "metadata": {},
     "output_type": "execute_result"
    }
   ],
   "source": [
    "x,y"
   ]
  },
  {
   "cell_type": "markdown",
   "id": "c921fc68",
   "metadata": {},
   "source": [
    "### 2.3 Plot :"
   ]
  },
  {
   "cell_type": "code",
   "execution_count": 46,
   "id": "9f7f3304",
   "metadata": {
    "execution": {
     "iopub.execute_input": "2022-01-29T17:50:51.990768Z",
     "iopub.status.busy": "2022-01-29T17:50:51.989770Z",
     "iopub.status.idle": "2022-01-29T17:50:52.098767Z",
     "shell.execute_reply": "2022-01-29T17:50:52.098767Z",
     "shell.execute_reply.started": "2022-01-29T17:50:51.990768Z"
    },
    "tags": []
   },
   "outputs": [
    {
     "data": {
      "image/png": "[encoded data removed]",
      "text/plain": [
       "<Figure size 648x432 with 1 Axes>"
      ]
     },
     "metadata": {},
     "output_type": "display_data"
    }
   ],
   "source": [
    "sns.set(rc={'figure.figsize':(9,6)})\n",
    "_ = plt.plot(x,y,marker='.',linestyle='none')\n",
    "_ = plt.xlabel('Years between eruptions')\n",
    "_ = plt.ylabel('ECDF')\n",
    "plt.margins(0.02)\n",
    "plt.show()"
   ]
  },
  {
   "cell_type": "markdown",
   "id": "9f34723d",
   "metadata": {
    "execution": {
     "iopub.execute_input": "2022-01-13T19:53:42.384370Z",
     "iopub.status.busy": "2022-01-13T19:53:42.384370Z",
     "iopub.status.idle": "2022-01-13T19:53:42.392369Z",
     "shell.execute_reply": "2022-01-13T19:53:42.392369Z",
     "shell.execute_reply.started": "2022-01-13T19:53:42.384370Z"
    },
    "tags": []
   },
   "source": [
    "## 3. Data 2 - Samples from theorical distribution you are comparing your data to"
   ]
  },
  {
   "cell_type": "code",
   "execution_count": 49,
   "id": "8ac9626e",
   "metadata": {
    "execution": {
     "iopub.execute_input": "2022-01-13T19:55:24.720298Z",
     "iopub.status.busy": "2022-01-13T19:55:24.720298Z",
     "iopub.status.idle": "2022-01-13T19:55:24.735295Z",
     "shell.execute_reply": "2022-01-13T19:55:24.735295Z",
     "shell.execute_reply.started": "2022-01-13T19:55:24.720298Z"
    },
    "tags": []
   },
   "outputs": [],
   "source": [
    "''' Create a theorical sample of exponential data distribution using scale(mean) as values from observed sample (from data observed)'''\n",
    "\n",
    "data2 = np.random.exponential(scale= np.mean(data), size=10000)"
   ]
  },
  {
   "cell_type": "code",
   "execution_count": 61,
   "id": "2b3bf8d8",
   "metadata": {
    "execution": {
     "iopub.execute_input": "2022-01-13T20:06:28.090161Z",
     "iopub.status.busy": "2022-01-13T20:06:28.090161Z",
     "iopub.status.idle": "2022-01-13T20:06:28.095159Z",
     "shell.execute_reply": "2022-01-13T20:06:28.095159Z",
     "shell.execute_reply.started": "2022-01-13T20:06:28.090161Z"
    },
    "tags": []
   },
   "outputs": [
    {
     "data": {
      "text/plain": [
       "array([205.7561383 ,  35.76374597, 198.57595003, ...,  12.54799624,\n",
       "       345.24663602, 217.37589849])"
      ]
     },
     "execution_count": 61,
     "metadata": {},
     "output_type": "execute_result"
    }
   ],
   "source": [
    "data2"
   ]
  },
  {
   "cell_type": "code",
   "execution_count": 55,
   "id": "845d8279",
   "metadata": {
    "execution": {
     "iopub.execute_input": "2022-01-13T19:57:38.531943Z",
     "iopub.status.busy": "2022-01-13T19:57:38.531943Z",
     "iopub.status.idle": "2022-01-13T19:57:38.547931Z",
     "shell.execute_reply": "2022-01-13T19:57:38.547931Z",
     "shell.execute_reply.started": "2022-01-13T19:57:38.531943Z"
    },
    "tags": []
   },
   "outputs": [
    {
     "name": "stdout",
     "output_type": "stream",
     "text": [
      "Low and High from theorical sample: \n",
      "Min : 0 Max : 654\n"
     ]
    }
   ],
   "source": [
    "print('Low and High from theorical sample: ')\n",
    "print('Min :',round(min(data2)),'Max :',round(max(data2)))"
   ]
  },
  {
   "cell_type": "markdown",
   "id": "f8cafb98",
   "metadata": {},
   "source": [
    "## 4. Formal ECDF - using data at arbitrary points"
   ]
  },
  {
   "cell_type": "markdown",
   "id": "fccd17c0",
   "metadata": {},
   "source": [
    "### 4.1 Function :"
   ]
  },
  {
   "cell_type": "code",
   "execution_count": 63,
   "id": "f33339b4",
   "metadata": {
    "execution": {
     "iopub.execute_input": "2022-01-13T20:07:19.787387Z",
     "iopub.status.busy": "2022-01-13T20:07:19.787387Z",
     "iopub.status.idle": "2022-01-13T20:07:19.794386Z",
     "shell.execute_reply": "2022-01-13T20:07:19.794386Z",
     "shell.execute_reply.started": "2022-01-13T20:07:19.787387Z"
    },
    "tags": []
   },
   "outputs": [],
   "source": [
    "'''ecdf_formal(x,data) returns value of the formal ecdf derived from dataset (data) for each value in array x (ecdf dos dados experimentais) .'''\n",
    "\n",
    "'''https://numpy.org/doc/stable/reference/generated/numpy.searchsorted.html'''\n",
    "\n",
    "'''Sort data from theorical sample(data2), and using observation np.search sorted will create and array with best localization for theorical sample'''\n",
    "\n",
    "'''x value (observations sorted) is used for ecdf and ecdf_formal(theorical in arbitrary point)'''\n",
    "\n",
    "''' after create an array with values close to observation it's normalized /len(data2), now we have an theorical ecdf in specific point '''\n",
    "\n",
    "def ecdf_formal(x, data2):  \n",
    "    return np.searchsorted(np.sort(data2), x, side='right') / len(data2)\n"
   ]
  },
  {
   "cell_type": "markdown",
   "id": "0b0fa56a",
   "metadata": {},
   "source": [
    "### 4.2 Calculation :"
   ]
  },
  {
   "cell_type": "code",
   "execution_count": 76,
   "id": "d5920e67",
   "metadata": {
    "execution": {
     "iopub.execute_input": "2022-01-13T20:17:46.484450Z",
     "iopub.status.busy": "2022-01-13T20:17:46.483450Z",
     "iopub.status.idle": "2022-01-13T20:17:46.500450Z",
     "shell.execute_reply": "2022-01-13T20:17:46.500450Z",
     "shell.execute_reply.started": "2022-01-13T20:17:46.484450Z"
    },
    "tags": []
   },
   "outputs": [],
   "source": [
    "theorical_y = ecdf_formal(x, data2)"
   ]
  },
  {
   "cell_type": "code",
   "execution_count": 77,
   "id": "0ebc4753",
   "metadata": {
    "execution": {
     "iopub.execute_input": "2022-01-13T20:17:46.502452Z",
     "iopub.status.busy": "2022-01-13T20:17:46.501451Z",
     "iopub.status.idle": "2022-01-13T20:17:46.516451Z",
     "shell.execute_reply": "2022-01-13T20:17:46.516451Z",
     "shell.execute_reply.started": "2022-01-13T20:17:46.502452Z"
    },
    "tags": []
   },
   "outputs": [
    {
     "data": {
      "text/plain": [
       "29"
      ]
     },
     "execution_count": 77,
     "metadata": {},
     "output_type": "execute_result"
    }
   ],
   "source": [
    "len(theorical_y)"
   ]
  },
  {
   "cell_type": "markdown",
   "id": "c8c036c5",
   "metadata": {},
   "source": [
    "### 4.3 Plot :"
   ]
  },
  {
   "cell_type": "code",
   "execution_count": 78,
   "id": "1167327d",
   "metadata": {
    "execution": {
     "iopub.execute_input": "2022-01-13T20:17:54.694112Z",
     "iopub.status.busy": "2022-01-13T20:17:54.693112Z",
     "iopub.status.idle": "2022-01-13T20:17:54.768111Z",
     "shell.execute_reply": "2022-01-13T20:17:54.768111Z",
     "shell.execute_reply.started": "2022-01-13T20:17:54.694112Z"
    },
    "tags": []
   },
   "outputs": [
    {
     "data": {
      "image/png": "[encoded data removed]",
      "text/plain": [
       "<Figure size 432x288 with 1 Axes>"
      ]
     },
     "metadata": {
      "needs_background": "light"
     },
     "output_type": "display_data"
    }
   ],
   "source": [
    "_ = plt.plot(x,theorical_y,marker='.',linestyle='none')\n",
    "_ = plt.xlabel('Observations')\n",
    "_ = plt.ylabel('Theorical ECDF')\n",
    "plt.margins(0.02)\n",
    "plt.show()"
   ]
  },
  {
   "cell_type": "markdown",
   "id": "d13147ef",
   "metadata": {
    "execution": {
     "iopub.execute_input": "2022-01-13T20:13:11.691578Z",
     "iopub.status.busy": "2022-01-13T20:13:11.691578Z",
     "iopub.status.idle": "2022-01-13T20:13:11.701578Z",
     "shell.execute_reply": "2022-01-13T20:13:11.701578Z",
     "shell.execute_reply.started": "2022-01-13T20:13:11.691578Z"
    },
    "tags": []
   },
   "source": [
    "## 5. Computing the K-S statistic:"
   ]
  },
  {
   "cell_type": "code",
   "execution_count": 80,
   "id": "e67d7506",
   "metadata": {
    "execution": {
     "iopub.execute_input": "2022-01-13T20:18:30.327524Z",
     "iopub.status.busy": "2022-01-13T20:18:30.327524Z",
     "iopub.status.idle": "2022-01-13T20:18:30.436524Z",
     "shell.execute_reply": "2022-01-13T20:18:30.436524Z",
     "shell.execute_reply.started": "2022-01-13T20:18:30.327524Z"
    },
    "tags": []
   },
   "outputs": [
    {
     "data": {
      "image/png": "[encoded data removed]",
      "text/plain": [
       "<Figure size 432x288 with 1 Axes>"
      ]
     },
     "metadata": {
      "needs_background": "light"
     },
     "output_type": "display_data"
    }
   ],
   "source": [
    "# Plot the CDFs and show the plot\n",
    "# x- same for both\n",
    "#y- probability came from observations\n",
    "#- probability came from observations\n",
    "\n",
    "_ = plt.plot(x,y, marker='.', linestyle='none')\n",
    "_ = plt.plot(x,theorical_y, marker='.', linestyle='none')\n",
    "_ = plt.legend(('ecdf', 'theorical_ecdf'), loc='lower right')\n",
    "_ = plt.xlabel('Time Between Eruptions (years)')\n",
    "_ = plt.ylabel('ecdf')\n",
    "plt.show()"
   ]
  },
  {
   "cell_type": "markdown",
   "id": "e586506e",
   "metadata": {},
   "source": [
    "### 5.1 Function :"
   ]
  },
  {
   "cell_type": "code",
   "execution_count": 95,
   "id": "c60cda52",
   "metadata": {
    "execution": {
     "iopub.execute_input": "2022-01-13T20:49:46.296113Z",
     "iopub.status.busy": "2022-01-13T20:49:46.296113Z",
     "iopub.status.idle": "2022-01-13T20:49:46.301113Z",
     "shell.execute_reply": "2022-01-13T20:49:46.301113Z",
     "shell.execute_reply.started": "2022-01-13T20:49:46.296113Z"
    },
    "tags": []
   },
   "outputs": [],
   "source": [
    "'''Write a function to compute the Kolmogorov-Smirnov statistic from two datasets, data1 and data2, \n",
    "in which data2 consists of samples from the theoretical distribution you are comparing your data to. \n",
    "Note that this means we are using hacker stats to compute the K-S statistic for a dataset and a theoretical distribution, \n",
    "not the K-S statistic for two empirical datasets.'''\n",
    "\n",
    "\n",
    "def ks_stat(data1, data2): # data2 consists of samples from the theoretical distribution you are comparing your data to\n",
    "    # Compute ECDF from data: x, y\n",
    "    x,y = ecdf(data1)\n",
    "    \n",
    "    # Calcula os valores correspondes da ecdf na cdf simulada\n",
    "    cdf = ecdf_formal(x,data2)\n",
    "\n",
    "    # Compute distances between concave corners and CDF\n",
    "    D_top = y-cdf\n",
    "\n",
    "    # Compute distance between convex corners and CDF\n",
    "    D_bottom = cdf - y + 1/len(data1)\n",
    "\n",
    "    return np.max((D_top, D_bottom))"
   ]
  },
  {
   "cell_type": "code",
   "execution_count": 107,
   "id": "56331c3d",
   "metadata": {
    "execution": {
     "iopub.execute_input": "2022-01-13T20:59:23.746491Z",
     "iopub.status.busy": "2022-01-13T20:59:23.746491Z",
     "iopub.status.idle": "2022-01-13T20:59:23.864488Z",
     "shell.execute_reply": "2022-01-13T20:59:23.864488Z",
     "shell.execute_reply.started": "2022-01-13T20:59:23.746491Z"
    },
    "tags": []
   },
   "outputs": [
    {
     "data": {
      "image/png": "[encoded data removed]",
      "text/plain": [
       "<Figure size 432x288 with 1 Axes>"
      ]
     },
     "metadata": {
      "needs_background": "light"
     },
     "output_type": "display_data"
    }
   ],
   "source": [
    "_ = plt.plot(x,np.absolute(theorical_y-y))\n",
    "_ = plt.plot(x,D_bottom)\n",
    "_ = plt.plot(x,D_top)\n",
    "_ = plt.legend(('absolute,D_bottom,D_top'), loc='lower right')\n",
    "_ = plt.xlabel('Time Between Eruptions (years)')\n",
    "_ = plt.ylabel('ecdf')\n",
    "plt.show()"
   ]
  },
  {
   "cell_type": "markdown",
   "id": "989f3b12",
   "metadata": {},
   "source": [
    "***''' Not conclude why use the D_bottom  - y + 1/len(data1) but this bring highest distance and more chance to refuse Ho so let's use that for while '''***"
   ]
  },
  {
   "cell_type": "code",
   "execution_count": 110,
   "id": "9124a47c",
   "metadata": {
    "execution": {
     "iopub.execute_input": "2022-01-13T21:01:57.923439Z",
     "iopub.status.busy": "2022-01-13T21:01:57.923439Z",
     "iopub.status.idle": "2022-01-13T21:01:57.931438Z",
     "shell.execute_reply": "2022-01-13T21:01:57.931438Z",
     "shell.execute_reply.started": "2022-01-13T21:01:57.923439Z"
    },
    "tags": []
   },
   "outputs": [
    {
     "data": {
      "text/plain": [
       "0.1237586206896552"
      ]
     },
     "execution_count": 110,
     "metadata": {},
     "output_type": "execute_result"
    }
   ],
   "source": [
    "k_s = ks_stat(data, data2)\n",
    "k_s"
   ]
  },
  {
   "cell_type": "markdown",
   "id": "828791ae",
   "metadata": {},
   "source": [
    "### 6. Drawing K-S replicates:"
   ]
  },
  {
   "cell_type": "code",
   "execution_count": 112,
   "id": "0ad6259c",
   "metadata": {
    "execution": {
     "iopub.execute_input": "2022-01-13T21:20:58.931022Z",
     "iopub.status.busy": "2022-01-13T21:20:58.930022Z",
     "iopub.status.idle": "2022-01-13T21:20:58.950024Z",
     "shell.execute_reply": "2022-01-13T21:20:58.950024Z",
     "shell.execute_reply.started": "2022-01-13T21:20:58.931022Z"
    },
    "tags": []
   },
   "outputs": [],
   "source": [
    "''' \n",
    "n = size of samples that will be compared with theorical sample\n",
    "f = function used to be compared (theorical). Ex: np.random.exponential()\n",
    "args() = contain the parameters that i want to replicate for theorical function. Ex: mean\n",
    "size = size of theorical sample from f\n",
    "n_reps = how many times you want to replicate experiment that will calculate k-s comparing x_samp with theorical sample x_f\n",
    "\n",
    "'''\n",
    "\n",
    "\n",
    "def draw_ks_reps(n, f, args=(), size=10000, n_reps=10000):\n",
    "    # Generate samples from target distribution\n",
    "    x_f = f(*args,size=size)\n",
    "    \n",
    "    # Initialize K-S replicates\n",
    "    reps = np.empty(n_reps)\n",
    "    \n",
    "    # Draw replicate, according with number of copies that i want\n",
    "    for i in range(n_reps):\n",
    "        # Draw samples for comparison\n",
    "        x_samp = f(*args,size=n)\n",
    "        \n",
    "        # Compute K-S statistic\n",
    "        reps[i] = ks_stat(x_samp,x_f)\n",
    "\n",
    "    return reps"
   ]
  },
  {
   "cell_type": "code",
   "execution_count": 126,
   "id": "729e26ea",
   "metadata": {
    "execution": {
     "iopub.execute_input": "2022-01-13T21:36:36.704021Z",
     "iopub.status.busy": "2022-01-13T21:36:36.704021Z",
     "iopub.status.idle": "2022-01-13T21:36:41.923022Z",
     "shell.execute_reply": "2022-01-13T21:36:41.923022Z",
     "shell.execute_reply.started": "2022-01-13T21:36:36.704021Z"
    },
    "tags": []
   },
   "outputs": [
    {
     "data": {
      "text/plain": [
       "array([0.1443931 , 0.20574483, 0.13526897, ..., 0.17840345, 0.13072759,\n",
       "       0.12554483])"
      ]
     },
     "execution_count": 126,
     "metadata": {},
     "output_type": "execute_result"
    }
   ],
   "source": [
    "draw_ks_reps(n=29, f= np.random.exponential, args=(np.mean(data),), size=10000, n_reps=10000)"
   ]
  },
  {
   "cell_type": "markdown",
   "id": "19de1b2e",
   "metadata": {},
   "source": [
    "### 7. Calculate Probability of K-S_reps >= K-S observed and get p-value"
   ]
  },
  {
   "cell_type": "code",
   "execution_count": 139,
   "id": "ad5f31dc",
   "metadata": {
    "execution": {
     "iopub.execute_input": "2022-01-13T21:46:14.162649Z",
     "iopub.status.busy": "2022-01-13T21:46:14.161649Z",
     "iopub.status.idle": "2022-01-13T21:46:19.368649Z",
     "shell.execute_reply": "2022-01-13T21:46:19.368649Z",
     "shell.execute_reply.started": "2022-01-13T21:46:14.162649Z"
    },
    "tags": []
   },
   "outputs": [
    {
     "name": "stdout",
     "output_type": "stream",
     "text": [
      "p = 0.6664\n"
     ]
    }
   ],
   "source": [
    "# Draw target distribution: x_f\n",
    "x_f = np.random.exponential(np.mean(data),size=10000)\n",
    "# Compute K-S stat: d\n",
    "d = ks_stat(data,x_f)\n",
    "\n",
    "# Draw K-S replicates: reps - array containing simulated distances theorical x theorical n times\n",
    "reps = draw_ks_reps(len(data), np.random.exponential, \n",
    "                         args=(np.mean(data),), size=10000, n_reps=10000)\n",
    "\n",
    "# Compute and print p-value\n",
    "p_val = sum(reps >= d) / 10000\n",
    "print('p =', p_val)"
   ]
  },
  {
   "cell_type": "code",
   "execution_count": 132,
   "id": "2b7c3695",
   "metadata": {
    "execution": {
     "iopub.execute_input": "2022-01-13T21:39:35.625648Z",
     "iopub.status.busy": "2022-01-13T21:39:35.624642Z",
     "iopub.status.idle": "2022-01-13T21:39:35.792635Z",
     "shell.execute_reply": "2022-01-13T21:39:35.792635Z",
     "shell.execute_reply.started": "2022-01-13T21:39:35.625648Z"
    },
    "tags": []
   },
   "outputs": [
    {
     "data": {
      "text/plain": [
       "<AxesSubplot:ylabel='Count'>"
      ]
     },
     "execution_count": 132,
     "metadata": {},
     "output_type": "execute_result"
    },
    {
     "data": {
      "image/png": "[encoded data removed]",
      "text/plain": [
       "<Figure size 432x288 with 1 Axes>"
      ]
     },
     "metadata": {
      "needs_background": "light"
     },
     "output_type": "display_data"
    }
   ],
   "source": [
    "sns.histplot(reps)"
   ]
  },
  {
   "cell_type": "markdown",
   "id": "c86c4540",
   "metadata": {
    "execution": {
     "iopub.execute_input": "2022-01-13T21:44:08.343568Z",
     "iopub.status.busy": "2022-01-13T21:44:08.343568Z",
     "iopub.status.idle": "2022-01-13T21:44:08.360567Z",
     "shell.execute_reply": "2022-01-13T21:44:08.360567Z",
     "shell.execute_reply.started": "2022-01-13T21:44:08.343568Z"
    },
    "tags": []
   },
   "source": [
    "# Scipy comparason"
   ]
  },
  {
   "cell_type": "code",
   "execution_count": 137,
   "id": "ea13a4fe",
   "metadata": {
    "execution": {
     "iopub.execute_input": "2022-01-13T21:45:35.226835Z",
     "iopub.status.busy": "2022-01-13T21:45:35.226835Z",
     "iopub.status.idle": "2022-01-13T21:45:35.231836Z",
     "shell.execute_reply": "2022-01-13T21:45:35.231836Z",
     "shell.execute_reply.started": "2022-01-13T21:45:35.226835Z"
    },
    "tags": []
   },
   "outputs": [
    {
     "data": {
      "text/plain": [
       "KstestResult(statistic=0.10344827586206896, pvalue=0.9984782925008956)"
      ]
     },
     "execution_count": 137,
     "metadata": {},
     "output_type": "execute_result"
    }
   ],
   "source": [
    "scipy.stats.kstest(y,theorical_y)"
   ]
  },
  {
   "cell_type": "code",
   "execution_count": null,
   "id": "4d0b4bf5",
   "metadata": {},
   "outputs": [],
   "source": []
  }
 ],
 "metadata": {
  "kernelspec": {
   "display_name": "Python 3 (ipykernel)",
   "language": "python",
   "name": "python3"
  },
  "language_info": {
   "codemirror_mode": {
    "name": "ipython",
    "version": 3
   },
   "file_extension": ".py",
   "mimetype": "text/x-python",
   "name": "python",
   "nbconvert_exporter": "python",
   "pygments_lexer": "ipython3",
   "version": "3.8.5"
  },
  "toc-autonumbering": true,
  "toc-showmarkdowntxt": true
 },
 "nbformat": 4,
 "nbformat_minor": 5
}
